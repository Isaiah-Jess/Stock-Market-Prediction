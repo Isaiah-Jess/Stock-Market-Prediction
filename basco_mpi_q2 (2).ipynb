{
 "cells": [
  {
   "cell_type": "code",
   "execution_count": 1,
   "id": "150699dd",
   "metadata": {},
   "outputs": [],
   "source": [
    "#BASCO, ISAIAH JESS L. \n",
    "#Importing Libraries Needed\n",
    "from sklearn.metrics import mean_squared_error, mean_absolute_error, explained_variance_score, r2_score, mean_gamma_deviance\n",
    "from itertools import cycle\n",
    "import plotly.express as px\n",
    "import pandas as pd\n",
    "import matplotlib.pyplot as plt\n",
    "import numpy as np\n",
    "from matplotlib import dates as mpl_dates\n",
    "from tensorflow.keras.models import Sequential\n",
    "from tensorflow.keras.layers import Dense, Dropout\n",
    "from tensorflow.keras.layers import LSTM\n",
    "import math"
   ]
  },
  {
   "cell_type": "code",
   "execution_count": 2,
   "id": "4bbd5424",
   "metadata": {},
   "outputs": [],
   "source": [
    "dataset = pd.read_csv('Prices.csv')"
   ]
  },
  {
   "cell_type": "code",
   "execution_count": 3,
   "id": "52efde6b",
   "metadata": {},
   "outputs": [
    {
     "name": "stdout",
     "output_type": "stream",
     "text": [
      "           Date   Open   High   Low   Close  Adj Close    Volume\n",
      "0     10/7/2022   3.53   3.53  3.43    3.45   0.636962   6462000\n",
      "1     10/6/2022   3.50   3.55  3.46    3.54   0.636962   5108000\n",
      "2     10/5/2022   3.45   3.45  3.40    3.45   0.636962  11404000\n",
      "3     10/4/2022   3.35   3.44  3.35    3.43   0.636962   6187000\n",
      "4     10/3/2022   3.35   3.44  3.30    3.30   0.435392  11060000\n",
      "..          ...    ...    ...   ...     ...        ...       ...\n",
      "485  10/16/2020   3.92   4.01  3.87    4.01   1.540000  74540000\n",
      "486  10/15/2020   3.95   3.99  3.87    3.97   1.540000  61833000\n",
      "487  10/14/2020   3.81   3.96  3.80    3.95   1.540000  57333000\n",
      "488  10/13/2020   3.87   3.93  3.76    3.76   1.540000  61226000\n",
      "489  10/12/2020   4.04   4.04  3.87    3.87   1.540000  63970000\n",
      "\n",
      "[490 rows x 7 columns]\n"
     ]
    }
   ],
   "source": [
    "print(dataset)"
   ]
  },
  {
   "cell_type": "code",
   "execution_count": 4,
   "id": "c37733ec",
   "metadata": {},
   "outputs": [
    {
     "data": {
      "text/plain": [
       "Date         0\n",
       " Open        0\n",
       " High        0\n",
       " Low         0\n",
       " Close       0\n",
       "Adj Close    0\n",
       " Volume      0\n",
       "dtype: int64"
      ]
     },
     "execution_count": 4,
     "metadata": {},
     "output_type": "execute_result"
    }
   ],
   "source": [
    "dataset.isnull().sum()"
   ]
  },
  {
   "cell_type": "code",
   "execution_count": 5,
   "id": "668385e4",
   "metadata": {},
   "outputs": [
    {
     "data": {
      "text/html": [
       "<div>\n",
       "<style scoped>\n",
       "    .dataframe tbody tr th:only-of-type {\n",
       "        vertical-align: middle;\n",
       "    }\n",
       "\n",
       "    .dataframe tbody tr th {\n",
       "        vertical-align: top;\n",
       "    }\n",
       "\n",
       "    .dataframe thead th {\n",
       "        text-align: right;\n",
       "    }\n",
       "</style>\n",
       "<table border=\"1\" class=\"dataframe\">\n",
       "  <thead>\n",
       "    <tr style=\"text-align: right;\">\n",
       "      <th></th>\n",
       "      <th>Open</th>\n",
       "      <th>High</th>\n",
       "      <th>Low</th>\n",
       "      <th>Close</th>\n",
       "      <th>Adj Close</th>\n",
       "      <th>Volume</th>\n",
       "    </tr>\n",
       "  </thead>\n",
       "  <tbody>\n",
       "    <tr>\n",
       "      <th>count</th>\n",
       "      <td>490.000000</td>\n",
       "      <td>490.000000</td>\n",
       "      <td>490.000000</td>\n",
       "      <td>490.000000</td>\n",
       "      <td>490.000000</td>\n",
       "      <td>4.900000e+02</td>\n",
       "    </tr>\n",
       "    <tr>\n",
       "      <th>mean</th>\n",
       "      <td>3.892204</td>\n",
       "      <td>3.932673</td>\n",
       "      <td>3.844551</td>\n",
       "      <td>3.885571</td>\n",
       "      <td>1.170459</td>\n",
       "      <td>2.023703e+07</td>\n",
       "    </tr>\n",
       "    <tr>\n",
       "      <th>std</th>\n",
       "      <td>0.211688</td>\n",
       "      <td>0.213095</td>\n",
       "      <td>0.207624</td>\n",
       "      <td>0.214545</td>\n",
       "      <td>0.346804</td>\n",
       "      <td>1.601401e+07</td>\n",
       "    </tr>\n",
       "    <tr>\n",
       "      <th>min</th>\n",
       "      <td>3.350000</td>\n",
       "      <td>3.440000</td>\n",
       "      <td>3.300000</td>\n",
       "      <td>3.300000</td>\n",
       "      <td>0.435392</td>\n",
       "      <td>2.689000e+06</td>\n",
       "    </tr>\n",
       "    <tr>\n",
       "      <th>25%</th>\n",
       "      <td>3.750000</td>\n",
       "      <td>3.790000</td>\n",
       "      <td>3.710000</td>\n",
       "      <td>3.750000</td>\n",
       "      <td>0.906981</td>\n",
       "      <td>1.024900e+07</td>\n",
       "    </tr>\n",
       "    <tr>\n",
       "      <th>50%</th>\n",
       "      <td>3.860000</td>\n",
       "      <td>3.895000</td>\n",
       "      <td>3.810000</td>\n",
       "      <td>3.850000</td>\n",
       "      <td>1.241596</td>\n",
       "      <td>1.582050e+07</td>\n",
       "    </tr>\n",
       "    <tr>\n",
       "      <th>75%</th>\n",
       "      <td>4.010000</td>\n",
       "      <td>4.060000</td>\n",
       "      <td>3.970000</td>\n",
       "      <td>4.010000</td>\n",
       "      <td>1.448350</td>\n",
       "      <td>2.483675e+07</td>\n",
       "    </tr>\n",
       "    <tr>\n",
       "      <th>max</th>\n",
       "      <td>4.540000</td>\n",
       "      <td>4.580000</td>\n",
       "      <td>4.450000</td>\n",
       "      <td>4.550000</td>\n",
       "      <td>1.655257</td>\n",
       "      <td>1.719530e+08</td>\n",
       "    </tr>\n",
       "  </tbody>\n",
       "</table>\n",
       "</div>"
      ],
      "text/plain": [
       "             Open        High         Low       Close   Adj Close  \\\n",
       "count  490.000000  490.000000  490.000000  490.000000  490.000000   \n",
       "mean     3.892204    3.932673    3.844551    3.885571    1.170459   \n",
       "std      0.211688    0.213095    0.207624    0.214545    0.346804   \n",
       "min      3.350000    3.440000    3.300000    3.300000    0.435392   \n",
       "25%      3.750000    3.790000    3.710000    3.750000    0.906981   \n",
       "50%      3.860000    3.895000    3.810000    3.850000    1.241596   \n",
       "75%      4.010000    4.060000    3.970000    4.010000    1.448350   \n",
       "max      4.540000    4.580000    4.450000    4.550000    1.655257   \n",
       "\n",
       "             Volume  \n",
       "count  4.900000e+02  \n",
       "mean   2.023703e+07  \n",
       "std    1.601401e+07  \n",
       "min    2.689000e+06  \n",
       "25%    1.024900e+07  \n",
       "50%    1.582050e+07  \n",
       "75%    2.483675e+07  \n",
       "max    1.719530e+08  "
      ]
     },
     "execution_count": 5,
     "metadata": {},
     "output_type": "execute_result"
    }
   ],
   "source": [
    "dataset.describe()"
   ]
  },
  {
   "cell_type": "code",
   "execution_count": 6,
   "id": "1a625338",
   "metadata": {},
   "outputs": [],
   "source": [
    "dataset.reset_index(inplace=True)"
   ]
  },
  {
   "cell_type": "code",
   "execution_count": 7,
   "id": "6d2d20a1",
   "metadata": {},
   "outputs": [
    {
     "data": {
      "text/html": [
       "<div>\n",
       "<style scoped>\n",
       "    .dataframe tbody tr th:only-of-type {\n",
       "        vertical-align: middle;\n",
       "    }\n",
       "\n",
       "    .dataframe tbody tr th {\n",
       "        vertical-align: top;\n",
       "    }\n",
       "\n",
       "    .dataframe thead th {\n",
       "        text-align: right;\n",
       "    }\n",
       "</style>\n",
       "<table border=\"1\" class=\"dataframe\">\n",
       "  <thead>\n",
       "    <tr style=\"text-align: right;\">\n",
       "      <th></th>\n",
       "      <th>index</th>\n",
       "      <th>Date</th>\n",
       "      <th>Open</th>\n",
       "      <th>High</th>\n",
       "      <th>Low</th>\n",
       "      <th>Close</th>\n",
       "      <th>Adj Close</th>\n",
       "      <th>Volume</th>\n",
       "    </tr>\n",
       "  </thead>\n",
       "  <tbody>\n",
       "    <tr>\n",
       "      <th>0</th>\n",
       "      <td>0</td>\n",
       "      <td>10/7/2022</td>\n",
       "      <td>3.53</td>\n",
       "      <td>3.53</td>\n",
       "      <td>3.43</td>\n",
       "      <td>3.45</td>\n",
       "      <td>0.636962</td>\n",
       "      <td>6462000</td>\n",
       "    </tr>\n",
       "    <tr>\n",
       "      <th>1</th>\n",
       "      <td>1</td>\n",
       "      <td>10/6/2022</td>\n",
       "      <td>3.50</td>\n",
       "      <td>3.55</td>\n",
       "      <td>3.46</td>\n",
       "      <td>3.54</td>\n",
       "      <td>0.636962</td>\n",
       "      <td>5108000</td>\n",
       "    </tr>\n",
       "    <tr>\n",
       "      <th>2</th>\n",
       "      <td>2</td>\n",
       "      <td>10/5/2022</td>\n",
       "      <td>3.45</td>\n",
       "      <td>3.45</td>\n",
       "      <td>3.40</td>\n",
       "      <td>3.45</td>\n",
       "      <td>0.636962</td>\n",
       "      <td>11404000</td>\n",
       "    </tr>\n",
       "    <tr>\n",
       "      <th>3</th>\n",
       "      <td>3</td>\n",
       "      <td>10/4/2022</td>\n",
       "      <td>3.35</td>\n",
       "      <td>3.44</td>\n",
       "      <td>3.35</td>\n",
       "      <td>3.43</td>\n",
       "      <td>0.636962</td>\n",
       "      <td>6187000</td>\n",
       "    </tr>\n",
       "    <tr>\n",
       "      <th>4</th>\n",
       "      <td>4</td>\n",
       "      <td>10/3/2022</td>\n",
       "      <td>3.35</td>\n",
       "      <td>3.44</td>\n",
       "      <td>3.30</td>\n",
       "      <td>3.30</td>\n",
       "      <td>0.435392</td>\n",
       "      <td>11060000</td>\n",
       "    </tr>\n",
       "    <tr>\n",
       "      <th>...</th>\n",
       "      <td>...</td>\n",
       "      <td>...</td>\n",
       "      <td>...</td>\n",
       "      <td>...</td>\n",
       "      <td>...</td>\n",
       "      <td>...</td>\n",
       "      <td>...</td>\n",
       "      <td>...</td>\n",
       "    </tr>\n",
       "    <tr>\n",
       "      <th>485</th>\n",
       "      <td>485</td>\n",
       "      <td>10/16/2020</td>\n",
       "      <td>3.92</td>\n",
       "      <td>4.01</td>\n",
       "      <td>3.87</td>\n",
       "      <td>4.01</td>\n",
       "      <td>1.540000</td>\n",
       "      <td>74540000</td>\n",
       "    </tr>\n",
       "    <tr>\n",
       "      <th>486</th>\n",
       "      <td>486</td>\n",
       "      <td>10/15/2020</td>\n",
       "      <td>3.95</td>\n",
       "      <td>3.99</td>\n",
       "      <td>3.87</td>\n",
       "      <td>3.97</td>\n",
       "      <td>1.540000</td>\n",
       "      <td>61833000</td>\n",
       "    </tr>\n",
       "    <tr>\n",
       "      <th>487</th>\n",
       "      <td>487</td>\n",
       "      <td>10/14/2020</td>\n",
       "      <td>3.81</td>\n",
       "      <td>3.96</td>\n",
       "      <td>3.80</td>\n",
       "      <td>3.95</td>\n",
       "      <td>1.540000</td>\n",
       "      <td>57333000</td>\n",
       "    </tr>\n",
       "    <tr>\n",
       "      <th>488</th>\n",
       "      <td>488</td>\n",
       "      <td>10/13/2020</td>\n",
       "      <td>3.87</td>\n",
       "      <td>3.93</td>\n",
       "      <td>3.76</td>\n",
       "      <td>3.76</td>\n",
       "      <td>1.540000</td>\n",
       "      <td>61226000</td>\n",
       "    </tr>\n",
       "    <tr>\n",
       "      <th>489</th>\n",
       "      <td>489</td>\n",
       "      <td>10/12/2020</td>\n",
       "      <td>4.04</td>\n",
       "      <td>4.04</td>\n",
       "      <td>3.87</td>\n",
       "      <td>3.87</td>\n",
       "      <td>1.540000</td>\n",
       "      <td>63970000</td>\n",
       "    </tr>\n",
       "  </tbody>\n",
       "</table>\n",
       "<p>490 rows × 8 columns</p>\n",
       "</div>"
      ],
      "text/plain": [
       "     index        Date   Open   High   Low   Close  Adj Close    Volume\n",
       "0        0   10/7/2022   3.53   3.53  3.43    3.45   0.636962   6462000\n",
       "1        1   10/6/2022   3.50   3.55  3.46    3.54   0.636962   5108000\n",
       "2        2   10/5/2022   3.45   3.45  3.40    3.45   0.636962  11404000\n",
       "3        3   10/4/2022   3.35   3.44  3.35    3.43   0.636962   6187000\n",
       "4        4   10/3/2022   3.35   3.44  3.30    3.30   0.435392  11060000\n",
       "..     ...         ...    ...    ...   ...     ...        ...       ...\n",
       "485    485  10/16/2020   3.92   4.01  3.87    4.01   1.540000  74540000\n",
       "486    486  10/15/2020   3.95   3.99  3.87    3.97   1.540000  61833000\n",
       "487    487  10/14/2020   3.81   3.96  3.80    3.95   1.540000  57333000\n",
       "488    488  10/13/2020   3.87   3.93  3.76    3.76   1.540000  61226000\n",
       "489    489  10/12/2020   4.04   4.04  3.87    3.87   1.540000  63970000\n",
       "\n",
       "[490 rows x 8 columns]"
      ]
     },
     "execution_count": 7,
     "metadata": {},
     "output_type": "execute_result"
    }
   ],
   "source": [
    "dataset"
   ]
  },
  {
   "cell_type": "code",
   "execution_count": 8,
   "id": "1690581c",
   "metadata": {},
   "outputs": [],
   "source": [
    "dataset_adj_close=dataset['Adj Close']"
   ]
  },
  {
   "cell_type": "code",
   "execution_count": 9,
   "id": "dfba717f",
   "metadata": {},
   "outputs": [
    {
     "data": {
      "text/plain": [
       "0      0.636962\n",
       "1      0.636962\n",
       "2      0.636962\n",
       "3      0.636962\n",
       "4      0.435392\n",
       "         ...   \n",
       "485    1.540000\n",
       "486    1.540000\n",
       "487    1.540000\n",
       "488    1.540000\n",
       "489    1.540000\n",
       "Name: Adj Close, Length: 490, dtype: float64"
      ]
     },
     "execution_count": 9,
     "metadata": {},
     "output_type": "execute_result"
    }
   ],
   "source": [
    "dataset_adj_close"
   ]
  },
  {
   "cell_type": "code",
   "execution_count": 10,
   "id": "c37d3404",
   "metadata": {},
   "outputs": [],
   "source": [
    "dataset = pd.DataFrame(dataset, columns=[\"Date\",\"Adj Close\"])"
   ]
  },
  {
   "cell_type": "code",
   "execution_count": 11,
   "id": "24c086b8",
   "metadata": {},
   "outputs": [
    {
     "data": {
      "image/png": "[encoded data removed]",
      "text/plain": [
       "<Figure size 720x504 with 1 Axes>"
      ]
     },
     "metadata": {
      "needs_background": "light"
     },
     "output_type": "display_data"
    }
   ],
   "source": [
    "dataset.plot(x='Date',y=[\"Adj Close\"],kind=\"line\", figsize=(10, 7))\n",
    "plt.title(\"Metro Pacific Investments Corporation\")\n",
    "plt.xlabel(\"Date from 2020-2022\")\n",
    "plt.ylabel(\"Adj Close\")\n",
    "plt.show()"
   ]
  },
  {
   "cell_type": "code",
   "execution_count": 12,
   "id": "74a3314d",
   "metadata": {},
   "outputs": [],
   "source": [
    "\n",
    "from sklearn.preprocessing import MinMaxScaler\n",
    "scaler=MinMaxScaler(feature_range=(0,1))\n",
    "dataset_adj_close=scaler.fit_transform(np.array(dataset_adj_close).reshape(-1,1))"
   ]
  },
  {
   "cell_type": "code",
   "execution_count": 13,
   "id": "9adf2076",
   "metadata": {},
   "outputs": [
    {
     "data": {
      "text/plain": [
       "(490, 1)"
      ]
     },
     "execution_count": 13,
     "metadata": {},
     "output_type": "execute_result"
    }
   ],
   "source": [
    "dataset_adj_close.shape"
   ]
  },
  {
   "cell_type": "code",
   "execution_count": 14,
   "id": "0eda5624",
   "metadata": {},
   "outputs": [],
   "source": [
    "\n",
    "train_size=int(len(dataset_adj_close)*0.70)\n",
    "test_size=len(dataset_adj_close)-train_size\n",
    "train_data=dataset_adj_close[0:train_size,:]\n",
    "test_data=dataset_adj_close[train_size:len(dataset_adj_close),:1]"
   ]
  },
  {
   "cell_type": "code",
   "execution_count": 79,
   "id": "6060d2a0",
   "metadata": {},
   "outputs": [
    {
     "name": "stdout",
     "output_type": "stream",
     "text": [
      "343 147\n",
      "train_data:  (343, 1)\n",
      "test_data:  (147, 1)\n"
     ]
    }
   ],
   "source": [
    "print(train_size,test_size)\n",
    "print(\"train_data: \", train_data.shape)\n",
    "print(\"test_data: \", test_data.shape)"
   ]
  },
  {
   "cell_type": "code",
   "execution_count": 83,
   "id": "6175d7aa",
   "metadata": {},
   "outputs": [],
   "source": [
    "def new_dataset(df2, time_step=1):\n",
    "    x_data, y_data = [], []\n",
    "    for i in range(len(df2)-time_step-1): \n",
    "        x_data.append(df2[i:(i+time_step), 0])\n",
    "        y_data.append(df2[i + time_step, 0])\n",
    "    return np.array(x_data), np.array(y_data)"
   ]
  },
  {
   "cell_type": "code",
   "execution_count": 17,
   "id": "bd6b38b9",
   "metadata": {},
   "outputs": [],
   "source": [
    "time_step= 60\n",
    "X_train, y_train= new_dataset(train_data, time_step)\n",
    "X_test, y_test= new_dataset(test_data, time_step)"
   ]
  },
  {
   "cell_type": "code",
   "execution_count": 77,
   "id": "b438a696",
   "metadata": {},
   "outputs": [
    {
     "name": "stdout",
     "output_type": "stream",
     "text": [
      "X_train:  (282, 60, 1) \n",
      "y_train:  (282,)\n"
     ]
    }
   ],
   "source": [
    "\n",
    "print(\"X_train: \",X_train.shape,\"\\ny_train: \", y_train.shape)\n"
   ]
  },
  {
   "cell_type": "code",
   "execution_count": 78,
   "id": "adbb6458",
   "metadata": {},
   "outputs": [
    {
     "name": "stdout",
     "output_type": "stream",
     "text": [
      "X_test:  (86, 60, 1) \n",
      "y_test:  (86,)\n"
     ]
    }
   ],
   "source": [
    "print(\"X_test: \",X_test.shape,\"\\ny_test: \", y_test.shape)"
   ]
  },
  {
   "cell_type": "code",
   "execution_count": 19,
   "id": "6865c878",
   "metadata": {},
   "outputs": [],
   "source": [
    "X_train =X_train.reshape(X_train.shape[0],X_train.shape[1] , 1)\n",
    "X_test = X_test.reshape(X_test.shape[0],X_test.shape[1] , 1)"
   ]
  },
  {
   "cell_type": "code",
   "execution_count": 20,
   "id": "7ffc9c77",
   "metadata": {},
   "outputs": [
    {
     "name": "stdout",
     "output_type": "stream",
     "text": [
      "X_train:  (282, 60, 1) \n",
      "y_train:  (282,)\n",
      "X_test:  (86, 60, 1) \n",
      "y_test:  (86,)\n"
     ]
    }
   ],
   "source": [
    "print(\"X_train: \",X_train.shape,\"\\ny_train: \", y_train.shape)\n",
    "print(\"X_test: \",X_test.shape,\"\\ny_test: \", y_test.shape)"
   ]
  },
  {
   "cell_type": "code",
   "execution_count": 21,
   "id": "781dd1c1",
   "metadata": {},
   "outputs": [],
   "source": [
    "#Structure of model\n",
    "model=Sequential()\n",
    "model.add(LSTM(20,return_sequences=True,input_shape=(time_step,1)))\n",
    "model.add(LSTM(20,return_sequences=True))\n",
    "model.add(LSTM(20))\n",
    "model.add(Dense(1))\n",
    "model.compile(loss='mean_squared_error',optimizer='adam')"
   ]
  },
  {
   "cell_type": "code",
   "execution_count": 22,
   "id": "344940e1",
   "metadata": {},
   "outputs": [
    {
     "name": "stdout",
     "output_type": "stream",
     "text": [
      "Model: \"sequential\"\n",
      "_________________________________________________________________\n",
      " Layer (type)                Output Shape              Param #   \n",
      "=================================================================\n",
      " lstm (LSTM)                 (None, 60, 20)            1760      \n",
      "                                                                 \n",
      " lstm_1 (LSTM)               (None, 60, 20)            3280      \n",
      "                                                                 \n",
      " lstm_2 (LSTM)               (None, 20)                3280      \n",
      "                                                                 \n",
      " dense (Dense)               (None, 1)                 21        \n",
      "                                                                 \n",
      "=================================================================\n",
      "Total params: 8,341\n",
      "Trainable params: 8,341\n",
      "Non-trainable params: 0\n",
      "_________________________________________________________________\n"
     ]
    }
   ],
   "source": [
    "model.summary()"
   ]
  },
  {
   "cell_type": "code",
   "execution_count": 23,
   "id": "f404f178",
   "metadata": {},
   "outputs": [
    {
     "name": "stdout",
     "output_type": "stream",
     "text": [
      "Epoch 1/160\n",
      "9/9 [==============================] - 12s 358ms/step - loss: 0.1863 - val_loss: 0.0984\n",
      "Epoch 2/160\n",
      "9/9 [==============================] - 1s 93ms/step - loss: 0.0331 - val_loss: 0.0022\n",
      "Epoch 3/160\n",
      "9/9 [==============================] - 1s 87ms/step - loss: 0.0143 - val_loss: 0.0695\n",
      "Epoch 4/160\n",
      "9/9 [==============================] - 1s 84ms/step - loss: 0.0159 - val_loss: 0.0134\n",
      "Epoch 5/160\n",
      "9/9 [==============================] - 1s 88ms/step - loss: 0.0113 - val_loss: 0.0060\n",
      "Epoch 6/160\n",
      "9/9 [==============================] - 1s 85ms/step - loss: 0.0090 - val_loss: 0.0132\n",
      "Epoch 7/160\n",
      "9/9 [==============================] - 1s 84ms/step - loss: 0.0075 - val_loss: 0.0021\n",
      "Epoch 8/160\n",
      "9/9 [==============================] - 1s 81ms/step - loss: 0.0069 - val_loss: 0.0026\n",
      "Epoch 9/160\n",
      "9/9 [==============================] - 1s 82ms/step - loss: 0.0063 - val_loss: 0.0016\n",
      "Epoch 10/160\n",
      "9/9 [==============================] - 1s 85ms/step - loss: 0.0061 - val_loss: 0.0016\n",
      "Epoch 11/160\n",
      "9/9 [==============================] - 1s 82ms/step - loss: 0.0061 - val_loss: 0.0021\n",
      "Epoch 12/160\n",
      "9/9 [==============================] - 1s 84ms/step - loss: 0.0060 - val_loss: 0.0016\n",
      "Epoch 13/160\n",
      "9/9 [==============================] - 1s 82ms/step - loss: 0.0060 - val_loss: 0.0018\n",
      "Epoch 14/160\n",
      "9/9 [==============================] - 1s 84ms/step - loss: 0.0059 - val_loss: 0.0015\n",
      "Epoch 15/160\n",
      "9/9 [==============================] - 1s 81ms/step - loss: 0.0061 - val_loss: 0.0018\n",
      "Epoch 16/160\n",
      "9/9 [==============================] - 1s 83ms/step - loss: 0.0059 - val_loss: 0.0017\n",
      "Epoch 17/160\n",
      "9/9 [==============================] - 1s 84ms/step - loss: 0.0059 - val_loss: 0.0020\n",
      "Epoch 18/160\n",
      "9/9 [==============================] - 1s 85ms/step - loss: 0.0056 - val_loss: 0.0016\n",
      "Epoch 19/160\n",
      "9/9 [==============================] - 1s 89ms/step - loss: 0.0055 - val_loss: 0.0017\n",
      "Epoch 20/160\n",
      "9/9 [==============================] - 1s 83ms/step - loss: 0.0055 - val_loss: 0.0025\n",
      "Epoch 21/160\n",
      "9/9 [==============================] - 1s 84ms/step - loss: 0.0057 - val_loss: 0.0013\n",
      "Epoch 22/160\n",
      "9/9 [==============================] - 1s 83ms/step - loss: 0.0052 - val_loss: 0.0017\n",
      "Epoch 23/160\n",
      "9/9 [==============================] - 1s 85ms/step - loss: 0.0052 - val_loss: 0.0013\n",
      "Epoch 24/160\n",
      "9/9 [==============================] - 1s 88ms/step - loss: 0.0050 - val_loss: 0.0011\n",
      "Epoch 25/160\n",
      "9/9 [==============================] - 1s 81ms/step - loss: 0.0050 - val_loss: 0.0028\n",
      "Epoch 26/160\n",
      "9/9 [==============================] - 1s 89ms/step - loss: 0.0048 - val_loss: 0.0012\n",
      "Epoch 27/160\n",
      "9/9 [==============================] - 1s 83ms/step - loss: 0.0048 - val_loss: 0.0016\n",
      "Epoch 28/160\n",
      "9/9 [==============================] - 1s 92ms/step - loss: 0.0046 - val_loss: 0.0023\n",
      "Epoch 29/160\n",
      "9/9 [==============================] - 1s 83ms/step - loss: 0.0047 - val_loss: 0.0027\n",
      "Epoch 30/160\n",
      "9/9 [==============================] - 1s 86ms/step - loss: 0.0050 - val_loss: 0.0043\n",
      "Epoch 31/160\n",
      "9/9 [==============================] - 1s 86ms/step - loss: 0.0046 - val_loss: 0.0022\n",
      "Epoch 32/160\n",
      "9/9 [==============================] - 1s 86ms/step - loss: 0.0049 - val_loss: 8.8093e-04\n",
      "Epoch 33/160\n",
      "9/9 [==============================] - 1s 79ms/step - loss: 0.0052 - val_loss: 0.0031\n",
      "Epoch 34/160\n",
      "9/9 [==============================] - 1s 80ms/step - loss: 0.0055 - val_loss: 0.0026\n",
      "Epoch 35/160\n",
      "9/9 [==============================] - 1s 83ms/step - loss: 0.0044 - val_loss: 9.9177e-04\n",
      "Epoch 36/160\n",
      "9/9 [==============================] - 1s 85ms/step - loss: 0.0046 - val_loss: 8.4834e-04\n",
      "Epoch 37/160\n",
      "9/9 [==============================] - 1s 82ms/step - loss: 0.0044 - val_loss: 0.0017\n",
      "Epoch 38/160\n",
      "9/9 [==============================] - 1s 82ms/step - loss: 0.0044 - val_loss: 0.0011\n",
      "Epoch 39/160\n",
      "9/9 [==============================] - 1s 85ms/step - loss: 0.0050 - val_loss: 9.3007e-04\n",
      "Epoch 40/160\n",
      "9/9 [==============================] - 1s 88ms/step - loss: 0.0046 - val_loss: 8.1125e-04\n",
      "Epoch 41/160\n",
      "9/9 [==============================] - 1s 83ms/step - loss: 0.0048 - val_loss: 0.0068\n",
      "Epoch 42/160\n",
      "9/9 [==============================] - 1s 84ms/step - loss: 0.0047 - val_loss: 0.0032\n",
      "Epoch 43/160\n",
      "9/9 [==============================] - 1s 83ms/step - loss: 0.0046 - val_loss: 0.0019\n",
      "Epoch 44/160\n",
      "9/9 [==============================] - 1s 98ms/step - loss: 0.0045 - val_loss: 8.0431e-04\n",
      "Epoch 45/160\n",
      "9/9 [==============================] - 1s 81ms/step - loss: 0.0045 - val_loss: 0.0013\n",
      "Epoch 46/160\n",
      "9/9 [==============================] - 1s 85ms/step - loss: 0.0045 - val_loss: 0.0021\n",
      "Epoch 47/160\n",
      "9/9 [==============================] - 1s 79ms/step - loss: 0.0044 - val_loss: 0.0057\n",
      "Epoch 48/160\n",
      "9/9 [==============================] - 1s 89ms/step - loss: 0.0045 - val_loss: 8.1101e-04\n",
      "Epoch 49/160\n",
      "9/9 [==============================] - 1s 85ms/step - loss: 0.0042 - val_loss: 0.0014\n",
      "Epoch 50/160\n",
      "9/9 [==============================] - 1s 82ms/step - loss: 0.0041 - val_loss: 7.8388e-04\n",
      "Epoch 51/160\n",
      "9/9 [==============================] - 1s 86ms/step - loss: 0.0044 - val_loss: 0.0012\n",
      "Epoch 52/160\n",
      "9/9 [==============================] - 1s 82ms/step - loss: 0.0042 - val_loss: 7.4980e-04\n",
      "Epoch 53/160\n",
      "9/9 [==============================] - 1s 85ms/step - loss: 0.0044 - val_loss: 0.0034\n",
      "Epoch 54/160\n",
      "9/9 [==============================] - 1s 83ms/step - loss: 0.0041 - val_loss: 0.0032\n",
      "Epoch 55/160\n",
      "9/9 [==============================] - 1s 84ms/step - loss: 0.0041 - val_loss: 0.0012\n",
      "Epoch 56/160\n",
      "9/9 [==============================] - 1s 84ms/step - loss: 0.0043 - val_loss: 0.0062\n",
      "Epoch 57/160\n",
      "9/9 [==============================] - 1s 85ms/step - loss: 0.0042 - val_loss: 0.0019\n",
      "Epoch 58/160\n",
      "9/9 [==============================] - 1s 84ms/step - loss: 0.0041 - val_loss: 0.0012\n",
      "Epoch 59/160\n",
      "9/9 [==============================] - 1s 82ms/step - loss: 0.0042 - val_loss: 7.3741e-04\n",
      "Epoch 60/160\n",
      "9/9 [==============================] - 1s 85ms/step - loss: 0.0043 - val_loss: 7.5691e-04\n",
      "Epoch 61/160\n",
      "9/9 [==============================] - 1s 86ms/step - loss: 0.0050 - val_loss: 0.0040\n",
      "Epoch 62/160\n",
      "9/9 [==============================] - 1s 84ms/step - loss: 0.0042 - val_loss: 0.0036\n",
      "Epoch 63/160\n",
      "9/9 [==============================] - 1s 85ms/step - loss: 0.0041 - val_loss: 0.0015\n",
      "Epoch 64/160\n",
      "9/9 [==============================] - 1s 81ms/step - loss: 0.0040 - val_loss: 0.0023\n",
      "Epoch 65/160\n",
      "9/9 [==============================] - 1s 82ms/step - loss: 0.0041 - val_loss: 0.0031\n",
      "Epoch 66/160\n",
      "9/9 [==============================] - 1s 82ms/step - loss: 0.0040 - val_loss: 0.0019\n",
      "Epoch 67/160\n",
      "9/9 [==============================] - 1s 84ms/step - loss: 0.0042 - val_loss: 9.7454e-04\n",
      "Epoch 68/160\n",
      "9/9 [==============================] - 1s 84ms/step - loss: 0.0041 - val_loss: 9.8150e-04\n",
      "Epoch 69/160\n",
      "9/9 [==============================] - 1s 81ms/step - loss: 0.0039 - val_loss: 0.0015\n",
      "Epoch 70/160\n",
      "9/9 [==============================] - 1s 85ms/step - loss: 0.0039 - val_loss: 0.0032\n",
      "Epoch 71/160\n",
      "9/9 [==============================] - 1s 87ms/step - loss: 0.0040 - val_loss: 0.0020\n",
      "Epoch 72/160\n",
      "9/9 [==============================] - 1s 81ms/step - loss: 0.0040 - val_loss: 7.7722e-04\n",
      "Epoch 73/160\n",
      "9/9 [==============================] - 1s 82ms/step - loss: 0.0041 - val_loss: 8.3196e-04\n",
      "Epoch 74/160\n",
      "9/9 [==============================] - 1s 80ms/step - loss: 0.0038 - val_loss: 0.0030\n",
      "Epoch 75/160\n",
      "9/9 [==============================] - 1s 79ms/step - loss: 0.0039 - val_loss: 0.0012\n",
      "Epoch 76/160\n",
      "9/9 [==============================] - 1s 87ms/step - loss: 0.0039 - val_loss: 7.4985e-04\n",
      "Epoch 77/160\n",
      "9/9 [==============================] - 1s 84ms/step - loss: 0.0040 - val_loss: 0.0016\n",
      "Epoch 78/160\n",
      "9/9 [==============================] - 1s 81ms/step - loss: 0.0040 - val_loss: 0.0032\n",
      "Epoch 79/160\n",
      "9/9 [==============================] - 1s 87ms/step - loss: 0.0038 - val_loss: 0.0028\n",
      "Epoch 80/160\n",
      "9/9 [==============================] - 1s 82ms/step - loss: 0.0038 - val_loss: 0.0017\n",
      "Epoch 81/160\n",
      "9/9 [==============================] - 1s 82ms/step - loss: 0.0038 - val_loss: 0.0037\n",
      "Epoch 82/160\n",
      "9/9 [==============================] - 1s 85ms/step - loss: 0.0039 - val_loss: 0.0028\n",
      "Epoch 83/160\n"
     ]
    },
    {
     "name": "stdout",
     "output_type": "stream",
     "text": [
      "9/9 [==============================] - 1s 85ms/step - loss: 0.0038 - val_loss: 0.0012\n",
      "Epoch 84/160\n",
      "9/9 [==============================] - 1s 81ms/step - loss: 0.0038 - val_loss: 0.0010\n",
      "Epoch 85/160\n",
      "9/9 [==============================] - 1s 85ms/step - loss: 0.0038 - val_loss: 0.0054\n",
      "Epoch 86/160\n",
      "9/9 [==============================] - 1s 82ms/step - loss: 0.0039 - val_loss: 0.0015\n",
      "Epoch 87/160\n",
      "9/9 [==============================] - 1s 85ms/step - loss: 0.0038 - val_loss: 6.9088e-04\n",
      "Epoch 88/160\n",
      "9/9 [==============================] - 1s 84ms/step - loss: 0.0042 - val_loss: 0.0014\n",
      "Epoch 89/160\n",
      "9/9 [==============================] - 1s 82ms/step - loss: 0.0045 - val_loss: 0.0040\n",
      "Epoch 90/160\n",
      "9/9 [==============================] - 1s 82ms/step - loss: 0.0040 - val_loss: 0.0039\n",
      "Epoch 91/160\n",
      "9/9 [==============================] - 1s 81ms/step - loss: 0.0038 - val_loss: 0.0039\n",
      "Epoch 92/160\n",
      "9/9 [==============================] - 1s 82ms/step - loss: 0.0038 - val_loss: 8.9234e-04\n",
      "Epoch 93/160\n",
      "9/9 [==============================] - 1s 89ms/step - loss: 0.0036 - val_loss: 0.0051\n",
      "Epoch 94/160\n",
      "9/9 [==============================] - 1s 85ms/step - loss: 0.0037 - val_loss: 7.1507e-04\n",
      "Epoch 95/160\n",
      "9/9 [==============================] - 1s 86ms/step - loss: 0.0040 - val_loss: 6.6502e-04\n",
      "Epoch 96/160\n",
      "9/9 [==============================] - 2s 187ms/step - loss: 0.0039 - val_loss: 0.0013\n",
      "Epoch 97/160\n",
      "9/9 [==============================] - 1s 94ms/step - loss: 0.0037 - val_loss: 0.0043\n",
      "Epoch 98/160\n",
      "9/9 [==============================] - 1s 94ms/step - loss: 0.0037 - val_loss: 0.0022\n",
      "Epoch 99/160\n",
      "9/9 [==============================] - 1s 93ms/step - loss: 0.0035 - val_loss: 0.0012\n",
      "Epoch 100/160\n",
      "9/9 [==============================] - 1s 101ms/step - loss: 0.0035 - val_loss: 0.0028\n",
      "Epoch 101/160\n",
      "9/9 [==============================] - 1s 94ms/step - loss: 0.0037 - val_loss: 0.0041\n",
      "Epoch 102/160\n",
      "9/9 [==============================] - 1s 93ms/step - loss: 0.0040 - val_loss: 7.7355e-04\n",
      "Epoch 103/160\n",
      "9/9 [==============================] - 1s 95ms/step - loss: 0.0036 - val_loss: 8.5268e-04\n",
      "Epoch 104/160\n",
      "9/9 [==============================] - 1s 94ms/step - loss: 0.0036 - val_loss: 0.0019\n",
      "Epoch 105/160\n",
      "9/9 [==============================] - 1s 91ms/step - loss: 0.0035 - val_loss: 0.0040\n",
      "Epoch 106/160\n",
      "9/9 [==============================] - 1s 100ms/step - loss: 0.0036 - val_loss: 0.0013\n",
      "Epoch 107/160\n",
      "9/9 [==============================] - 1s 97ms/step - loss: 0.0036 - val_loss: 7.2014e-04\n",
      "Epoch 108/160\n",
      "9/9 [==============================] - 1s 99ms/step - loss: 0.0035 - val_loss: 0.0025\n",
      "Epoch 109/160\n",
      "9/9 [==============================] - 1s 100ms/step - loss: 0.0034 - val_loss: 0.0023\n",
      "Epoch 110/160\n",
      "9/9 [==============================] - 1s 94ms/step - loss: 0.0034 - val_loss: 0.0016\n",
      "Epoch 111/160\n",
      "9/9 [==============================] - 1s 91ms/step - loss: 0.0034 - val_loss: 0.0028\n",
      "Epoch 112/160\n",
      "9/9 [==============================] - 1s 94ms/step - loss: 0.0034 - val_loss: 0.0039\n",
      "Epoch 113/160\n",
      "9/9 [==============================] - 1s 94ms/step - loss: 0.0034 - val_loss: 7.5380e-04\n",
      "Epoch 114/160\n",
      "9/9 [==============================] - 1s 100ms/step - loss: 0.0035 - val_loss: 8.9732e-04\n",
      "Epoch 115/160\n",
      "9/9 [==============================] - 1s 92ms/step - loss: 0.0034 - val_loss: 0.0021\n",
      "Epoch 116/160\n",
      "9/9 [==============================] - 1s 99ms/step - loss: 0.0035 - val_loss: 0.0028\n",
      "Epoch 117/160\n",
      "9/9 [==============================] - 1s 96ms/step - loss: 0.0038 - val_loss: 0.0038\n",
      "Epoch 118/160\n",
      "9/9 [==============================] - 1s 96ms/step - loss: 0.0036 - val_loss: 0.0030\n",
      "Epoch 119/160\n",
      "9/9 [==============================] - 1s 94ms/step - loss: 0.0034 - val_loss: 0.0011\n",
      "Epoch 120/160\n",
      "9/9 [==============================] - 1s 96ms/step - loss: 0.0033 - val_loss: 0.0036\n",
      "Epoch 121/160\n",
      "9/9 [==============================] - 1s 94ms/step - loss: 0.0035 - val_loss: 0.0103\n",
      "Epoch 122/160\n",
      "9/9 [==============================] - 1s 100ms/step - loss: 0.0035 - val_loss: 0.0019\n",
      "Epoch 123/160\n",
      "9/9 [==============================] - 1s 100ms/step - loss: 0.0032 - val_loss: 0.0017\n",
      "Epoch 124/160\n",
      "9/9 [==============================] - 1s 104ms/step - loss: 0.0033 - val_loss: 0.0036\n",
      "Epoch 125/160\n",
      "9/9 [==============================] - 1s 97ms/step - loss: 0.0032 - val_loss: 0.0063\n",
      "Epoch 126/160\n",
      "9/9 [==============================] - 1s 97ms/step - loss: 0.0033 - val_loss: 0.0027\n",
      "Epoch 127/160\n",
      "9/9 [==============================] - 1s 87ms/step - loss: 0.0032 - val_loss: 0.0017\n",
      "Epoch 128/160\n",
      "9/9 [==============================] - 1s 65ms/step - loss: 0.0032 - val_loss: 0.0025\n",
      "Epoch 129/160\n",
      "9/9 [==============================] - 1s 82ms/step - loss: 0.0032 - val_loss: 0.0059\n",
      "Epoch 130/160\n",
      "9/9 [==============================] - 1s 88ms/step - loss: 0.0033 - val_loss: 7.6079e-04\n",
      "Epoch 131/160\n",
      "9/9 [==============================] - 1s 85ms/step - loss: 0.0032 - val_loss: 0.0025\n",
      "Epoch 132/160\n",
      "9/9 [==============================] - 1s 83ms/step - loss: 0.0031 - val_loss: 0.0043\n",
      "Epoch 133/160\n",
      "9/9 [==============================] - 1s 85ms/step - loss: 0.0032 - val_loss: 0.0065\n",
      "Epoch 134/160\n",
      "9/9 [==============================] - 1s 84ms/step - loss: 0.0031 - val_loss: 0.0041\n",
      "Epoch 135/160\n",
      "9/9 [==============================] - 1s 84ms/step - loss: 0.0030 - val_loss: 0.0025\n",
      "Epoch 136/160\n",
      "9/9 [==============================] - 1s 86ms/step - loss: 0.0033 - val_loss: 0.0033\n",
      "Epoch 137/160\n",
      "9/9 [==============================] - 1s 88ms/step - loss: 0.0033 - val_loss: 0.0052\n",
      "Epoch 138/160\n",
      "9/9 [==============================] - 1s 81ms/step - loss: 0.0031 - val_loss: 0.0078\n",
      "Epoch 139/160\n",
      "9/9 [==============================] - 1s 83ms/step - loss: 0.0030 - val_loss: 0.0030\n",
      "Epoch 140/160\n",
      "9/9 [==============================] - 1s 84ms/step - loss: 0.0029 - val_loss: 0.0026\n",
      "Epoch 141/160\n",
      "9/9 [==============================] - 1s 81ms/step - loss: 0.0030 - val_loss: 0.0039\n",
      "Epoch 142/160\n",
      "9/9 [==============================] - 1s 87ms/step - loss: 0.0029 - val_loss: 0.0018\n",
      "Epoch 143/160\n",
      "9/9 [==============================] - 1s 86ms/step - loss: 0.0030 - val_loss: 0.0019\n",
      "Epoch 144/160\n",
      "9/9 [==============================] - 1s 86ms/step - loss: 0.0028 - val_loss: 0.0048\n",
      "Epoch 145/160\n",
      "9/9 [==============================] - 1s 84ms/step - loss: 0.0029 - val_loss: 0.0045\n",
      "Epoch 146/160\n",
      "9/9 [==============================] - 1s 83ms/step - loss: 0.0029 - val_loss: 0.0110\n",
      "Epoch 147/160\n",
      "9/9 [==============================] - 1s 85ms/step - loss: 0.0030 - val_loss: 0.0034\n",
      "Epoch 148/160\n",
      "9/9 [==============================] - 1s 83ms/step - loss: 0.0028 - val_loss: 0.0074\n",
      "Epoch 149/160\n",
      "9/9 [==============================] - 1s 80ms/step - loss: 0.0029 - val_loss: 0.0025\n",
      "Epoch 150/160\n",
      "9/9 [==============================] - 1s 82ms/step - loss: 0.0028 - val_loss: 0.0013\n",
      "Epoch 151/160\n",
      "9/9 [==============================] - 1s 83ms/step - loss: 0.0030 - val_loss: 0.0013\n",
      "Epoch 152/160\n",
      "9/9 [==============================] - 1s 90ms/step - loss: 0.0031 - val_loss: 0.0079\n",
      "Epoch 153/160\n",
      "9/9 [==============================] - 1s 83ms/step - loss: 0.0028 - val_loss: 0.0064\n",
      "Epoch 154/160\n",
      "9/9 [==============================] - 1s 84ms/step - loss: 0.0027 - val_loss: 0.0056\n",
      "Epoch 155/160\n",
      "9/9 [==============================] - 1s 84ms/step - loss: 0.0026 - val_loss: 0.0039\n",
      "Epoch 156/160\n",
      "9/9 [==============================] - 1s 81ms/step - loss: 0.0028 - val_loss: 0.0049\n",
      "Epoch 157/160\n",
      "9/9 [==============================] - 1s 80ms/step - loss: 0.0026 - val_loss: 0.0016\n",
      "Epoch 158/160\n",
      "9/9 [==============================] - 1s 82ms/step - loss: 0.0028 - val_loss: 0.0014\n",
      "Epoch 159/160\n",
      "9/9 [==============================] - 1s 85ms/step - loss: 0.0027 - val_loss: 0.0045\n",
      "Epoch 160/160\n",
      "9/9 [==============================] - 1s 84ms/step - loss: 0.0025 - val_loss: 0.0036\n"
     ]
    },
    {
     "data": {
      "text/plain": [
       "<keras.callbacks.History at 0x1a31abeb6a0>"
      ]
     },
     "execution_count": 23,
     "metadata": {},
     "output_type": "execute_result"
    }
   ],
   "source": [
    "#Model Fitting\n",
    "model.fit(X_train,y_train,validation_data=(X_test,y_test),epochs=160,batch_size=32,verbose=1)"
   ]
  },
  {
   "cell_type": "code",
   "execution_count": null,
   "id": "6b9bb84b",
   "metadata": {},
   "outputs": [],
   "source": [
    "train_predict=model.predict(X_train)\n",
    "test_predict=model.predict(X_test)"
   ]
  },
  {
   "cell_type": "code",
   "execution_count": null,
   "id": "45340343",
   "metadata": {},
   "outputs": [],
   "source": [
    "train_predict=scaler.inverse_transform(train_predict)\n",
    "test_predict=scaler.inverse_transform(test_predict)"
   ]
  },
  {
   "cell_type": "code",
   "execution_count": 26,
   "id": "5c13d09b",
   "metadata": {},
   "outputs": [
    {
     "data": {
      "text/plain": [
       "0.5555505118496559"
      ]
     },
     "execution_count": 26,
     "metadata": {},
     "output_type": "execute_result"
    }
   ],
   "source": [
    "import math\n",
    "from sklearn.metrics import mean_squared_error\n",
    "math.sqrt(mean_squared_error(y_train,train_predict))"
   ]
  },
  {
   "cell_type": "code",
   "execution_count": 27,
   "id": "003bacfe",
   "metadata": {},
   "outputs": [
    {
     "data": {
      "text/plain": [
       "0.5775015102468208"
      ]
     },
     "execution_count": 27,
     "metadata": {},
     "output_type": "execute_result"
    }
   ],
   "source": [
    "#DATA TESTING\n",
    "math.sqrt(mean_squared_error(y_test,test_predict))"
   ]
  },
  {
   "cell_type": "code",
   "execution_count": 75,
   "id": "cf47a3dc",
   "metadata": {},
   "outputs": [],
   "source": [
    "#Training of prediction plot\n",
    "look_back=60\n",
    "trainPredictPlot= np.empty_like(dataset_adj_close)\n",
    "trainPredictPlot[:, :]= np.nan\n",
    "trainPredictPlot[look_back:len(train_predict)+look_back, :]= train_predict\n",
    "#Test predictions for plot\n",
    "testPredictPlot = np.empty_like(dataset_adj_close)\n",
    "testPredictPlot[:, :] = np.nan\n",
    "testPredictPlot[len(train_predict)+(look_back*2)+1:len(dataset_adj_close)-1, :] = test_predict\n"
   ]
  },
  {
   "cell_type": "code",
   "execution_count": 76,
   "id": "fb92c2d5",
   "metadata": {},
   "outputs": [
    {
     "data": {
      "image/png": "[encoded data removed]",
      "text/plain": [
       "<Figure size 720x504 with 1 Axes>"
      ]
     },
     "metadata": {
      "needs_background": "light"
     },
     "output_type": "display_data"
    }
   ],
   "source": [
    "#Plotting\n",
    "plt.title(\"Metro Pacific Investments Corporation\")\n",
    "plt.xlabel(\"Date from 2020-2022\")\n",
    "plt.ylabel(\"Adj Close\")\n",
    "plt.plot(scaler.inverse_transform(dataset_adj_close))\n",
    "plt.plot(trainPredictPlot)\n",
    "plt.plot(testPredictPlot)\n",
    "plt.gca().legend(('Original Adj_Close','Train Predicted','Test Predicted'))\n",
    "plt.rcParams['figure.figsize'] = [10, 7]\n",
    "plt.show()"
   ]
  },
  {
   "cell_type": "code",
   "execution_count": 32,
   "id": "a377a63b",
   "metadata": {},
   "outputs": [
    {
     "name": "stdout",
     "output_type": "stream",
     "text": [
      "9/9 [==============================] - 0s 18ms/step\n",
      "3/3 [==============================] - 0s 19ms/step\n"
     ]
    },
    {
     "data": {
      "text/plain": [
       "((282, 1), (86, 1))"
      ]
     },
     "execution_count": 32,
     "metadata": {},
     "output_type": "execute_result"
    }
   ],
   "source": [
    "#Prediction\n",
    "train_predict=model.predict(X_train)\n",
    "test_predict=model.predict(X_test)\n",
    "train_predict.shape, test_predict.shape"
   ]
  },
  {
   "cell_type": "code",
   "execution_count": 73,
   "id": "983ac0ac",
   "metadata": {},
   "outputs": [],
   "source": [
    "train_predict = scaler.inverse_transform(train_predict)\n",
    "test_predict = scaler.inverse_transform(test_predict)\n"
   ]
  },
  {
   "cell_type": "code",
   "execution_count": 74,
   "id": "f3b1293c",
   "metadata": {},
   "outputs": [],
   "source": [
    "original_ytrain = scaler.inverse_transform(y_train.reshape(-1,1)) \n",
    "original_ytest = scaler.inverse_transform(y_test.reshape(-1,1))"
   ]
  },
  {
   "cell_type": "code",
   "execution_count": 34,
   "id": "7265086e",
   "metadata": {},
   "outputs": [
    {
     "name": "stdout",
     "output_type": "stream",
     "text": [
      "Train data RMSE:  0.0590889974181386\n",
      "Train data MSE:  0.0034915096158807902\n",
      "Test data MAE:  0.03152754118356641\n"
     ]
    }
   ],
   "source": [
    "#Metrices Evaluation\n",
    "print(\"Train data RMSE: \", math.sqrt(mean_squared_error(original_ytrain,train_predict)))\n",
    "print(\"Train data MSE: \", mean_squared_error(original_ytrain,train_predict))\n",
    "print(\"Test data MAE: \", mean_absolute_error(original_ytrain,train_predict))"
   ]
  },
  {
   "cell_type": "code",
   "execution_count": 35,
   "id": "0d058059",
   "metadata": {},
   "outputs": [
    {
     "name": "stdout",
     "output_type": "stream",
     "text": [
      "Test data RMSE:  0.07327511504342045\n",
      "Test data MSE:  0.005369242484626502\n",
      "Test data MAE:  0.06422520171764284\n"
     ]
    }
   ],
   "source": [
    "print(\"Test data RMSE: \", math.sqrt(mean_squared_error(original_ytest,test_predict)))\n",
    "print(\"Test data MSE: \", mean_squared_error(original_ytest,test_predict))\n",
    "print(\"Test data MAE: \", mean_absolute_error(original_ytest,test_predict))"
   ]
  },
  {
   "cell_type": "code",
   "execution_count": 50,
   "id": "838c216e",
   "metadata": {},
   "outputs": [],
   "source": [
    "#Prediction\n",
    "x_input=test_data[len(test_data)-time_step:].reshape(1,-1)\n",
    "temp=list(x_input)\n",
    "temp=temp[0].tolist()\n",
    "from numpy import array\n",
    "lst_output=[]\n",
    "n_steps=time_step\n",
    "i=0\n",
    "pred_days= 10\n",
    "while(i<pred_days):\n",
    "    if(len(temp)>time_step):\n",
    "        x_input=np.array(temp[1:])\n",
    "        x_input = x_input.reshape(1,-1)\n",
    "        x_input = x_input.reshape((1, n_steps, 1))\n",
    "        yhat = model.predict(x_input, verbose=0)\n",
    "        temp.extend(yhat[0].tolist())\n",
    "        temp=temp[1:]       \n",
    "        lst_output.extend(yhat.tolist())\n",
    "        i=i+1     \n",
    "    else: \n",
    "        x_input = x_input.reshape((1, n_steps,1))\n",
    "        yhat = model.predict(x_input, verbose=0)\n",
    "        temp.extend(yhat[0].tolist())\n",
    "        lst_output.extend(yhat.tolist())\n",
    "        i=i+1"
   ]
  },
  {
   "cell_type": "code",
   "execution_count": 51,
   "id": "aa56392f",
   "metadata": {},
   "outputs": [
    {
     "name": "stdout",
     "output_type": "stream",
     "text": [
      "Days to be Predict:  10\n"
     ]
    }
   ],
   "source": [
    "print(\"Days to be Predict: \", len(lst_output))"
   ]
  },
  {
   "cell_type": "code",
   "execution_count": 52,
   "id": "5ed4dc15",
   "metadata": {},
   "outputs": [],
   "source": [
    "last_days=np.arange(1,time_step+1)\n",
    "day_pred=np.arange(time_step+1,time_step+pred_days+1)"
   ]
  },
  {
   "cell_type": "code",
   "execution_count": 71,
   "id": "7718aee7",
   "metadata": {},
   "outputs": [],
   "source": [
    "temp_mat= np.empty((len(last_days)+pred_days+1,1))\n",
    "temp_mat[:]= np.nan\n",
    "temp_mat= temp_mat.reshape(1,-1).tolist()[0]\n",
    "last_original_days_value= temp_mat\n",
    "next_predicted_days_value= temp_mat\n",
    "last_original_days_value[0:time_step+1]= scaler.inverse_transform(dataset_adj_close[len(dataset_adj_close)-time_step:]).reshape(1,-1).tolist()[0]\n",
    "next_predicted_days_value[time_step+1:]= scaler.inverse_transform(np.array(lst_output).reshape(-1,1)).reshape(1,-1).tolist()[0]\n",
    "new_pred_plot= pd.DataFrame({'last_original_days_value':last_original_days_value,'next_predicted_days_value':next_predicted_days_value})\n",
    "names= cycle(['Last 15 days close price','Predicted next 10 days close price'])"
   ]
  },
  {
   "cell_type": "code",
   "execution_count": 84,
   "id": "701c2d01",
   "metadata": {},
   "outputs": [
    {
     "data": {
      "application/vnd.plotly.v1+json": {
       "config": {
        "plotlyServerURL": "https://plot.ly"
       },
       "data": [
        {
         "hovertemplate": "variable=last_original_days_value<br>Day=%{x}<br>Stock price=%{y}<extra></extra>",
         "legendgroup": "last_original_days_value",
         "line": {
          "color": "#636efa",
          "dash": "solid"
         },
         "marker": {
          "symbol": "circle"
         },
         "mode": "lines",
         "name": "Last 15 days close price",
         "orientation": "v",
         "showlegend": true,
         "type": "scatter",
         "x": [
          0,
          1,
          2,
          3,
          4,
          5,
          6,
          7,
          8,
          9,
          10,
          11,
          12,
          13,
          14,
          15,
          16,
          17,
          18,
          19,
          20,
          21,
          22,
          23,
          24,
          25,
          26,
          27,
          28,
          29,
          30,
          31,
          32,
          33,
          34,
          35,
          36,
          37,
          38,
          39,
          40,
          41,
          42,
          43,
          44,
          45,
          46,
          47,
          48,
          49,
          50,
          51,
          52,
          53,
          54,
          55,
          56,
          57,
          58,
          59,
          60,
          61,
          62,
          63,
          64,
          65,
          66,
          67,
          68,
          69,
          70
         ],
         "xaxis": "x",
         "y": [
          1.65,
          1.65,
          1.54,
          1.54,
          1.54,
          1.54,
          1.54,
          1.54,
          1.54,
          1.54,
          1.54,
          1.54,
          1.54,
          1.54,
          1.54,
          1.54,
          1.54,
          1.54,
          1.54,
          1.54,
          1.54,
          1.54,
          1.54,
          1.54,
          1.54,
          1.54,
          1.54,
          1.54,
          1.54,
          1.54,
          1.54,
          1.54,
          1.54,
          1.54,
          1.54,
          1.54,
          1.54,
          1.54,
          1.54,
          1.54,
          1.54,
          1.54,
          1.54,
          1.54,
          1.54,
          1.54,
          1.54,
          1.54,
          1.54,
          1.54,
          1.54,
          1.54,
          1.54,
          1.54,
          1.54,
          1.54,
          1.54,
          1.54,
          1.54,
          1.54,
          null,
          1.4939271501154898,
          1.4895104769582748,
          1.4837965187610387,
          1.4781296763975618,
          1.4731854949472545,
          1.4691943911958931,
          1.466144077217698,
          1.463903457567811,
          1.4622967930946944,
          1.4611437639407514
         ],
         "yaxis": "y"
        },
        {
         "hovertemplate": "variable=next_predicted_days_value<br>Day=%{x}<br>Stock price=%{y}<extra></extra>",
         "legendgroup": "next_predicted_days_value",
         "line": {
          "color": "#EF553B",
          "dash": "solid"
         },
         "marker": {
          "symbol": "circle"
         },
         "mode": "lines",
         "name": "Predicted next 10 days close price",
         "orientation": "v",
         "showlegend": true,
         "type": "scatter",
         "x": [
          0,
          1,
          2,
          3,
          4,
          5,
          6,
          7,
          8,
          9,
          10,
          11,
          12,
          13,
          14,
          15,
          16,
          17,
          18,
          19,
          20,
          21,
          22,
          23,
          24,
          25,
          26,
          27,
          28,
          29,
          30,
          31,
          32,
          33,
          34,
          35,
          36,
          37,
          38,
          39,
          40,
          41,
          42,
          43,
          44,
          45,
          46,
          47,
          48,
          49,
          50,
          51,
          52,
          53,
          54,
          55,
          56,
          57,
          58,
          59,
          60,
          61,
          62,
          63,
          64,
          65,
          66,
          67,
          68,
          69,
          70
         ],
         "xaxis": "x",
         "y": [
          1.65,
          1.65,
          1.54,
          1.54,
          1.54,
          1.54,
          1.54,
          1.54,
          1.54,
          1.54,
          1.54,
          1.54,
          1.54,
          1.54,
          1.54,
          1.54,
          1.54,
          1.54,
          1.54,
          1.54,
          1.54,
          1.54,
          1.54,
          1.54,
          1.54,
          1.54,
          1.54,
          1.54,
          1.54,
          1.54,
          1.54,
          1.54,
          1.54,
          1.54,
          1.54,
          1.54,
          1.54,
          1.54,
          1.54,
          1.54,
          1.54,
          1.54,
          1.54,
          1.54,
          1.54,
          1.54,
          1.54,
          1.54,
          1.54,
          1.54,
          1.54,
          1.54,
          1.54,
          1.54,
          1.54,
          1.54,
          1.54,
          1.54,
          1.54,
          1.54,
          null,
          1.4939271501154898,
          1.4895104769582748,
          1.4837965187610387,
          1.4781296763975618,
          1.4731854949472545,
          1.4691943911958931,
          1.466144077217698,
          1.463903457567811,
          1.4622967930946944,
          1.4611437639407514
         ],
         "yaxis": "y"
        }
       ],
       "layout": {
        "font": {
         "color": "black",
         "size": 15
        },
        "legend": {
         "title": {
          "text": "Adj_Close Price"
         },
         "tracegroupgap": 0
        },
        "margin": {
         "t": 60
        },
        "plot_bgcolor": "white",
        "template": {
         "data": {
          "bar": [
           {
            "error_x": {
             "color": "#2a3f5f"
            },
            "error_y": {
             "color": "#2a3f5f"
            },
            "marker": {
             "line": {
              "color": "#E5ECF6",
              "width": 0.5
             },
             "pattern": {
              "fillmode": "overlay",
              "size": 10,
              "solidity": 0.2
             }
            },
            "type": "bar"
           }
          ],
          "barpolar": [
           {
            "marker": {
             "line": {
              "color": "#E5ECF6",
              "width": 0.5
             },
             "pattern": {
              "fillmode": "overlay",
              "size": 10,
              "solidity": 0.2
             }
            },
            "type": "barpolar"
           }
          ],
          "carpet": [
           {
            "aaxis": {
             "endlinecolor": "#2a3f5f",
             "gridcolor": "white",
             "linecolor": "white",
             "minorgridcolor": "white",
             "startlinecolor": "#2a3f5f"
            },
            "baxis": {
             "endlinecolor": "#2a3f5f",
             "gridcolor": "white",
             "linecolor": "white",
             "minorgridcolor": "white",
             "startlinecolor": "#2a3f5f"
            },
            "type": "carpet"
           }
          ],
          "choropleth": [
           {
            "colorbar": {
             "outlinewidth": 0,
             "ticks": ""
            },
            "type": "choropleth"
           }
          ],
          "contour": [
           {
            "colorbar": {
             "outlinewidth": 0,
             "ticks": ""
            },
            "colorscale": [
             [
              0,
              "#0d0887"
             ],
             [
              0.1111111111111111,
              "#46039f"
             ],
             [
              0.2222222222222222,
              "#7201a8"
             ],
             [
              0.3333333333333333,
              "#9c179e"
             ],
             [
              0.4444444444444444,
              "#bd3786"
             ],
             [
              0.5555555555555556,
              "#d8576b"
             ],
             [
              0.6666666666666666,
              "#ed7953"
             ],
             [
              0.7777777777777778,
              "#fb9f3a"
             ],
             [
              0.8888888888888888,
              "#fdca26"
             ],
             [
              1,
              "#f0f921"
             ]
            ],
            "type": "contour"
           }
          ],
          "contourcarpet": [
           {
            "colorbar": {
             "outlinewidth": 0,
             "ticks": ""
            },
            "type": "contourcarpet"
           }
          ],
          "heatmap": [
           {
            "colorbar": {
             "outlinewidth": 0,
             "ticks": ""
            },
            "colorscale": [
             [
              0,
              "#0d0887"
             ],
             [
              0.1111111111111111,
              "#46039f"
             ],
             [
              0.2222222222222222,
              "#7201a8"
             ],
             [
              0.3333333333333333,
              "#9c179e"
             ],
             [
              0.4444444444444444,
              "#bd3786"
             ],
             [
              0.5555555555555556,
              "#d8576b"
             ],
             [
              0.6666666666666666,
              "#ed7953"
             ],
             [
              0.7777777777777778,
              "#fb9f3a"
             ],
             [
              0.8888888888888888,
              "#fdca26"
             ],
             [
              1,
              "#f0f921"
             ]
            ],
            "type": "heatmap"
           }
          ],
          "heatmapgl": [
           {
            "colorbar": {
             "outlinewidth": 0,
             "ticks": ""
            },
            "colorscale": [
             [
              0,
              "#0d0887"
             ],
             [
              0.1111111111111111,
              "#46039f"
             ],
             [
              0.2222222222222222,
              "#7201a8"
             ],
             [
              0.3333333333333333,
              "#9c179e"
             ],
             [
              0.4444444444444444,
              "#bd3786"
             ],
             [
              0.5555555555555556,
              "#d8576b"
             ],
             [
              0.6666666666666666,
              "#ed7953"
             ],
             [
              0.7777777777777778,
              "#fb9f3a"
             ],
             [
              0.8888888888888888,
              "#fdca26"
             ],
             [
              1,
              "#f0f921"
             ]
            ],
            "type": "heatmapgl"
           }
          ],
          "histogram": [
           {
            "marker": {
             "pattern": {
              "fillmode": "overlay",
              "size": 10,
              "solidity": 0.2
             }
            },
            "type": "histogram"
           }
          ],
          "histogram2d": [
           {
            "colorbar": {
             "outlinewidth": 0,
             "ticks": ""
            },
            "colorscale": [
             [
              0,
              "#0d0887"
             ],
             [
              0.1111111111111111,
              "#46039f"
             ],
             [
              0.2222222222222222,
              "#7201a8"
             ],
             [
              0.3333333333333333,
              "#9c179e"
             ],
             [
              0.4444444444444444,
              "#bd3786"
             ],
             [
              0.5555555555555556,
              "#d8576b"
             ],
             [
              0.6666666666666666,
              "#ed7953"
             ],
             [
              0.7777777777777778,
              "#fb9f3a"
             ],
             [
              0.8888888888888888,
              "#fdca26"
             ],
             [
              1,
              "#f0f921"
             ]
            ],
            "type": "histogram2d"
           }
          ],
          "histogram2dcontour": [
           {
            "colorbar": {
             "outlinewidth": 0,
             "ticks": ""
            },
            "colorscale": [
             [
              0,
              "#0d0887"
             ],
             [
              0.1111111111111111,
              "#46039f"
             ],
             [
              0.2222222222222222,
              "#7201a8"
             ],
             [
              0.3333333333333333,
              "#9c179e"
             ],
             [
              0.4444444444444444,
              "#bd3786"
             ],
             [
              0.5555555555555556,
              "#d8576b"
             ],
             [
              0.6666666666666666,
              "#ed7953"
             ],
             [
              0.7777777777777778,
              "#fb9f3a"
             ],
             [
              0.8888888888888888,
              "#fdca26"
             ],
             [
              1,
              "#f0f921"
             ]
            ],
            "type": "histogram2dcontour"
           }
          ],
          "mesh3d": [
           {
            "colorbar": {
             "outlinewidth": 0,
             "ticks": ""
            },
            "type": "mesh3d"
           }
          ],
          "parcoords": [
           {
            "line": {
             "colorbar": {
              "outlinewidth": 0,
              "ticks": ""
             }
            },
            "type": "parcoords"
           }
          ],
          "pie": [
           {
            "automargin": true,
            "type": "pie"
           }
          ],
          "scatter": [
           {
            "marker": {
             "colorbar": {
              "outlinewidth": 0,
              "ticks": ""
             }
            },
            "type": "scatter"
           }
          ],
          "scatter3d": [
           {
            "line": {
             "colorbar": {
              "outlinewidth": 0,
              "ticks": ""
             }
            },
            "marker": {
             "colorbar": {
              "outlinewidth": 0,
              "ticks": ""
             }
            },
            "type": "scatter3d"
           }
          ],
          "scattercarpet": [
           {
            "marker": {
             "colorbar": {
              "outlinewidth": 0,
              "ticks": ""
             }
            },
            "type": "scattercarpet"
           }
          ],
          "scattergeo": [
           {
            "marker": {
             "colorbar": {
              "outlinewidth": 0,
              "ticks": ""
             }
            },
            "type": "scattergeo"
           }
          ],
          "scattergl": [
           {
            "marker": {
             "colorbar": {
              "outlinewidth": 0,
              "ticks": ""
             }
            },
            "type": "scattergl"
           }
          ],
          "scattermapbox": [
           {
            "marker": {
             "colorbar": {
              "outlinewidth": 0,
              "ticks": ""
             }
            },
            "type": "scattermapbox"
           }
          ],
          "scatterpolar": [
           {
            "marker": {
             "colorbar": {
              "outlinewidth": 0,
              "ticks": ""
             }
            },
            "type": "scatterpolar"
           }
          ],
          "scatterpolargl": [
           {
            "marker": {
             "colorbar": {
              "outlinewidth": 0,
              "ticks": ""
             }
            },
            "type": "scatterpolargl"
           }
          ],
          "scatterternary": [
           {
            "marker": {
             "colorbar": {
              "outlinewidth": 0,
              "ticks": ""
             }
            },
            "type": "scatterternary"
           }
          ],
          "surface": [
           {
            "colorbar": {
             "outlinewidth": 0,
             "ticks": ""
            },
            "colorscale": [
             [
              0,
              "#0d0887"
             ],
             [
              0.1111111111111111,
              "#46039f"
             ],
             [
              0.2222222222222222,
              "#7201a8"
             ],
             [
              0.3333333333333333,
              "#9c179e"
             ],
             [
              0.4444444444444444,
              "#bd3786"
             ],
             [
              0.5555555555555556,
              "#d8576b"
             ],
             [
              0.6666666666666666,
              "#ed7953"
             ],
             [
              0.7777777777777778,
              "#fb9f3a"
             ],
             [
              0.8888888888888888,
              "#fdca26"
             ],
             [
              1,
              "#f0f921"
             ]
            ],
            "type": "surface"
           }
          ],
          "table": [
           {
            "cells": {
             "fill": {
              "color": "#EBF0F8"
             },
             "line": {
              "color": "white"
             }
            },
            "header": {
             "fill": {
              "color": "#C8D4E3"
             },
             "line": {
              "color": "white"
             }
            },
            "type": "table"
           }
          ]
         },
         "layout": {
          "annotationdefaults": {
           "arrowcolor": "#2a3f5f",
           "arrowhead": 0,
           "arrowwidth": 1
          },
          "autotypenumbers": "strict",
          "coloraxis": {
           "colorbar": {
            "outlinewidth": 0,
            "ticks": ""
           }
          },
          "colorscale": {
           "diverging": [
            [
             0,
             "#8e0152"
            ],
            [
             0.1,
             "#c51b7d"
            ],
            [
             0.2,
             "#de77ae"
            ],
            [
             0.3,
             "#f1b6da"
            ],
            [
             0.4,
             "#fde0ef"
            ],
            [
             0.5,
             "#f7f7f7"
            ],
            [
             0.6,
             "#e6f5d0"
            ],
            [
             0.7,
             "#b8e186"
            ],
            [
             0.8,
             "#7fbc41"
            ],
            [
             0.9,
             "#4d9221"
            ],
            [
             1,
             "#276419"
            ]
           ],
           "sequential": [
            [
             0,
             "#0d0887"
            ],
            [
             0.1111111111111111,
             "#46039f"
            ],
            [
             0.2222222222222222,
             "#7201a8"
            ],
            [
             0.3333333333333333,
             "#9c179e"
            ],
            [
             0.4444444444444444,
             "#bd3786"
            ],
            [
             0.5555555555555556,
             "#d8576b"
            ],
            [
             0.6666666666666666,
             "#ed7953"
            ],
            [
             0.7777777777777778,
             "#fb9f3a"
            ],
            [
             0.8888888888888888,
             "#fdca26"
            ],
            [
             1,
             "#f0f921"
            ]
           ],
           "sequentialminus": [
            [
             0,
             "#0d0887"
            ],
            [
             0.1111111111111111,
             "#46039f"
            ],
            [
             0.2222222222222222,
             "#7201a8"
            ],
            [
             0.3333333333333333,
             "#9c179e"
            ],
            [
             0.4444444444444444,
             "#bd3786"
            ],
            [
             0.5555555555555556,
             "#d8576b"
            ],
            [
             0.6666666666666666,
             "#ed7953"
            ],
            [
             0.7777777777777778,
             "#fb9f3a"
            ],
            [
             0.8888888888888888,
             "#fdca26"
            ],
            [
             1,
             "#f0f921"
            ]
           ]
          },
          "colorway": [
           "#636efa",
           "#EF553B",
           "#00cc96",
           "#ab63fa",
           "#FFA15A",
           "#19d3f3",
           "#FF6692",
           "#B6E880",
           "#FF97FF",
           "#FECB52"
          ],
          "font": {
           "color": "#2a3f5f"
          },
          "geo": {
           "bgcolor": "white",
           "lakecolor": "white",
           "landcolor": "#E5ECF6",
           "showlakes": true,
           "showland": true,
           "subunitcolor": "white"
          },
          "hoverlabel": {
           "align": "left"
          },
          "hovermode": "closest",
          "mapbox": {
           "style": "light"
          },
          "paper_bgcolor": "white",
          "plot_bgcolor": "#E5ECF6",
          "polar": {
           "angularaxis": {
            "gridcolor": "white",
            "linecolor": "white",
            "ticks": ""
           },
           "bgcolor": "#E5ECF6",
           "radialaxis": {
            "gridcolor": "white",
            "linecolor": "white",
            "ticks": ""
           }
          },
          "scene": {
           "xaxis": {
            "backgroundcolor": "#E5ECF6",
            "gridcolor": "white",
            "gridwidth": 2,
            "linecolor": "white",
            "showbackground": true,
            "ticks": "",
            "zerolinecolor": "white"
           },
           "yaxis": {
            "backgroundcolor": "#E5ECF6",
            "gridcolor": "white",
            "gridwidth": 2,
            "linecolor": "white",
            "showbackground": true,
            "ticks": "",
            "zerolinecolor": "white"
           },
           "zaxis": {
            "backgroundcolor": "#E5ECF6",
            "gridcolor": "white",
            "gridwidth": 2,
            "linecolor": "white",
            "showbackground": true,
            "ticks": "",
            "zerolinecolor": "white"
           }
          },
          "shapedefaults": {
           "line": {
            "color": "#2a3f5f"
           }
          },
          "ternary": {
           "aaxis": {
            "gridcolor": "white",
            "linecolor": "white",
            "ticks": ""
           },
           "baxis": {
            "gridcolor": "white",
            "linecolor": "white",
            "ticks": ""
           },
           "bgcolor": "#E5ECF6",
           "caxis": {
            "gridcolor": "white",
            "linecolor": "white",
            "ticks": ""
           }
          },
          "title": {
           "x": 0.05
          },
          "xaxis": {
           "automargin": true,
           "gridcolor": "white",
           "linecolor": "white",
           "ticks": "",
           "title": {
            "standoff": 15
           },
           "zerolinecolor": "white",
           "zerolinewidth": 2
          },
          "yaxis": {
           "automargin": true,
           "gridcolor": "white",
           "linecolor": "white",
           "ticks": "",
           "title": {
            "standoff": 15
           },
           "zerolinecolor": "white",
           "zerolinewidth": 2
          }
         }
        },
        "title": {
         "text": "Last 15 days vs next 10 days"
        },
        "xaxis": {
         "anchor": "y",
         "domain": [
          0,
          1
         ],
         "title": {
          "text": "Day"
         }
        },
        "yaxis": {
         "anchor": "x",
         "domain": [
          0,
          1
         ],
         "title": {
          "text": "Stock price"
         }
        }
       }
      },
      "text/html": [
       "<div>                            <div id=\"77275eee-ef8d-46f2-823f-c5bd38a151e8\" class=\"plotly-graph-div\" style=\"height:525px; width:100%;\"></div>            <script type=\"text/javascript\">                require([\"plotly\"], function(Plotly) {                    window.PLOTLYENV=window.PLOTLYENV || {};                                    if (document.getElementById(\"77275eee-ef8d-46f2-823f-c5bd38a151e8\")) {                    Plotly.newPlot(                        \"77275eee-ef8d-46f2-823f-c5bd38a151e8\",                        [{\"hovertemplate\":\"variable=last_original_days_value<br>Day=%{x}<br>Stock price=%{y}<extra></extra>\",\"legendgroup\":\"last_original_days_value\",\"line\":{\"color\":\"#636efa\",\"dash\":\"solid\"},\"marker\":{\"symbol\":\"circle\"},\"mode\":\"lines\",\"name\":\"Last 15 days close price\",\"orientation\":\"v\",\"showlegend\":true,\"x\":[0,1,2,3,4,5,6,7,8,9,10,11,12,13,14,15,16,17,18,19,20,21,22,23,24,25,26,27,28,29,30,31,32,33,34,35,36,37,38,39,40,41,42,43,44,45,46,47,48,49,50,51,52,53,54,55,56,57,58,59,60,61,62,63,64,65,66,67,68,69,70],\"xaxis\":\"x\",\"y\":[1.65,1.65,1.54,1.54,1.54,1.54,1.54,1.54,1.54,1.54,1.54,1.54,1.54,1.54,1.54,1.54,1.54,1.54,1.54,1.54,1.54,1.54,1.54,1.54,1.54,1.54,1.54,1.54,1.54,1.54,1.54,1.54,1.54,1.54,1.54,1.54,1.54,1.54,1.54,1.54,1.54,1.54,1.54,1.54,1.54,1.54,1.54,1.54,1.54,1.54,1.54,1.54,1.54,1.54,1.54,1.54,1.54,1.54,1.54,1.54,null,1.4939271501154898,1.4895104769582748,1.4837965187610387,1.4781296763975618,1.4731854949472545,1.4691943911958931,1.466144077217698,1.463903457567811,1.4622967930946944,1.4611437639407514],\"yaxis\":\"y\",\"type\":\"scatter\"},{\"hovertemplate\":\"variable=next_predicted_days_value<br>Day=%{x}<br>Stock price=%{y}<extra></extra>\",\"legendgroup\":\"next_predicted_days_value\",\"line\":{\"color\":\"#EF553B\",\"dash\":\"solid\"},\"marker\":{\"symbol\":\"circle\"},\"mode\":\"lines\",\"name\":\"Predicted next 10 days close price\",\"orientation\":\"v\",\"showlegend\":true,\"x\":[0,1,2,3,4,5,6,7,8,9,10,11,12,13,14,15,16,17,18,19,20,21,22,23,24,25,26,27,28,29,30,31,32,33,34,35,36,37,38,39,40,41,42,43,44,45,46,47,48,49,50,51,52,53,54,55,56,57,58,59,60,61,62,63,64,65,66,67,68,69,70],\"xaxis\":\"x\",\"y\":[1.65,1.65,1.54,1.54,1.54,1.54,1.54,1.54,1.54,1.54,1.54,1.54,1.54,1.54,1.54,1.54,1.54,1.54,1.54,1.54,1.54,1.54,1.54,1.54,1.54,1.54,1.54,1.54,1.54,1.54,1.54,1.54,1.54,1.54,1.54,1.54,1.54,1.54,1.54,1.54,1.54,1.54,1.54,1.54,1.54,1.54,1.54,1.54,1.54,1.54,1.54,1.54,1.54,1.54,1.54,1.54,1.54,1.54,1.54,1.54,null,1.4939271501154898,1.4895104769582748,1.4837965187610387,1.4781296763975618,1.4731854949472545,1.4691943911958931,1.466144077217698,1.463903457567811,1.4622967930946944,1.4611437639407514],\"yaxis\":\"y\",\"type\":\"scatter\"}],                        {\"template\":{\"data\":{\"bar\":[{\"error_x\":{\"color\":\"#2a3f5f\"},\"error_y\":{\"color\":\"#2a3f5f\"},\"marker\":{\"line\":{\"color\":\"#E5ECF6\",\"width\":0.5},\"pattern\":{\"fillmode\":\"overlay\",\"size\":10,\"solidity\":0.2}},\"type\":\"bar\"}],\"barpolar\":[{\"marker\":{\"line\":{\"color\":\"#E5ECF6\",\"width\":0.5},\"pattern\":{\"fillmode\":\"overlay\",\"size\":10,\"solidity\":0.2}},\"type\":\"barpolar\"}],\"carpet\":[{\"aaxis\":{\"endlinecolor\":\"#2a3f5f\",\"gridcolor\":\"white\",\"linecolor\":\"white\",\"minorgridcolor\":\"white\",\"startlinecolor\":\"#2a3f5f\"},\"baxis\":{\"endlinecolor\":\"#2a3f5f\",\"gridcolor\":\"white\",\"linecolor\":\"white\",\"minorgridcolor\":\"white\",\"startlinecolor\":\"#2a3f5f\"},\"type\":\"carpet\"}],\"choropleth\":[{\"colorbar\":{\"outlinewidth\":0,\"ticks\":\"\"},\"type\":\"choropleth\"}],\"contour\":[{\"colorbar\":{\"outlinewidth\":0,\"ticks\":\"\"},\"colorscale\":[[0.0,\"#0d0887\"],[0.1111111111111111,\"#46039f\"],[0.2222222222222222,\"#7201a8\"],[0.3333333333333333,\"#9c179e\"],[0.4444444444444444,\"#bd3786\"],[0.5555555555555556,\"#d8576b\"],[0.6666666666666666,\"#ed7953\"],[0.7777777777777778,\"#fb9f3a\"],[0.8888888888888888,\"#fdca26\"],[1.0,\"#f0f921\"]],\"type\":\"contour\"}],\"contourcarpet\":[{\"colorbar\":{\"outlinewidth\":0,\"ticks\":\"\"},\"type\":\"contourcarpet\"}],\"heatmap\":[{\"colorbar\":{\"outlinewidth\":0,\"ticks\":\"\"},\"colorscale\":[[0.0,\"#0d0887\"],[0.1111111111111111,\"#46039f\"],[0.2222222222222222,\"#7201a8\"],[0.3333333333333333,\"#9c179e\"],[0.4444444444444444,\"#bd3786\"],[0.5555555555555556,\"#d8576b\"],[0.6666666666666666,\"#ed7953\"],[0.7777777777777778,\"#fb9f3a\"],[0.8888888888888888,\"#fdca26\"],[1.0,\"#f0f921\"]],\"type\":\"heatmap\"}],\"heatmapgl\":[{\"colorbar\":{\"outlinewidth\":0,\"ticks\":\"\"},\"colorscale\":[[0.0,\"#0d0887\"],[0.1111111111111111,\"#46039f\"],[0.2222222222222222,\"#7201a8\"],[0.3333333333333333,\"#9c179e\"],[0.4444444444444444,\"#bd3786\"],[0.5555555555555556,\"#d8576b\"],[0.6666666666666666,\"#ed7953\"],[0.7777777777777778,\"#fb9f3a\"],[0.8888888888888888,\"#fdca26\"],[1.0,\"#f0f921\"]],\"type\":\"heatmapgl\"}],\"histogram\":[{\"marker\":{\"pattern\":{\"fillmode\":\"overlay\",\"size\":10,\"solidity\":0.2}},\"type\":\"histogram\"}],\"histogram2d\":[{\"colorbar\":{\"outlinewidth\":0,\"ticks\":\"\"},\"colorscale\":[[0.0,\"#0d0887\"],[0.1111111111111111,\"#46039f\"],[0.2222222222222222,\"#7201a8\"],[0.3333333333333333,\"#9c179e\"],[0.4444444444444444,\"#bd3786\"],[0.5555555555555556,\"#d8576b\"],[0.6666666666666666,\"#ed7953\"],[0.7777777777777778,\"#fb9f3a\"],[0.8888888888888888,\"#fdca26\"],[1.0,\"#f0f921\"]],\"type\":\"histogram2d\"}],\"histogram2dcontour\":[{\"colorbar\":{\"outlinewidth\":0,\"ticks\":\"\"},\"colorscale\":[[0.0,\"#0d0887\"],[0.1111111111111111,\"#46039f\"],[0.2222222222222222,\"#7201a8\"],[0.3333333333333333,\"#9c179e\"],[0.4444444444444444,\"#bd3786\"],[0.5555555555555556,\"#d8576b\"],[0.6666666666666666,\"#ed7953\"],[0.7777777777777778,\"#fb9f3a\"],[0.8888888888888888,\"#fdca26\"],[1.0,\"#f0f921\"]],\"type\":\"histogram2dcontour\"}],\"mesh3d\":[{\"colorbar\":{\"outlinewidth\":0,\"ticks\":\"\"},\"type\":\"mesh3d\"}],\"parcoords\":[{\"line\":{\"colorbar\":{\"outlinewidth\":0,\"ticks\":\"\"}},\"type\":\"parcoords\"}],\"pie\":[{\"automargin\":true,\"type\":\"pie\"}],\"scatter\":[{\"marker\":{\"colorbar\":{\"outlinewidth\":0,\"ticks\":\"\"}},\"type\":\"scatter\"}],\"scatter3d\":[{\"line\":{\"colorbar\":{\"outlinewidth\":0,\"ticks\":\"\"}},\"marker\":{\"colorbar\":{\"outlinewidth\":0,\"ticks\":\"\"}},\"type\":\"scatter3d\"}],\"scattercarpet\":[{\"marker\":{\"colorbar\":{\"outlinewidth\":0,\"ticks\":\"\"}},\"type\":\"scattercarpet\"}],\"scattergeo\":[{\"marker\":{\"colorbar\":{\"outlinewidth\":0,\"ticks\":\"\"}},\"type\":\"scattergeo\"}],\"scattergl\":[{\"marker\":{\"colorbar\":{\"outlinewidth\":0,\"ticks\":\"\"}},\"type\":\"scattergl\"}],\"scattermapbox\":[{\"marker\":{\"colorbar\":{\"outlinewidth\":0,\"ticks\":\"\"}},\"type\":\"scattermapbox\"}],\"scatterpolar\":[{\"marker\":{\"colorbar\":{\"outlinewidth\":0,\"ticks\":\"\"}},\"type\":\"scatterpolar\"}],\"scatterpolargl\":[{\"marker\":{\"colorbar\":{\"outlinewidth\":0,\"ticks\":\"\"}},\"type\":\"scatterpolargl\"}],\"scatterternary\":[{\"marker\":{\"colorbar\":{\"outlinewidth\":0,\"ticks\":\"\"}},\"type\":\"scatterternary\"}],\"surface\":[{\"colorbar\":{\"outlinewidth\":0,\"ticks\":\"\"},\"colorscale\":[[0.0,\"#0d0887\"],[0.1111111111111111,\"#46039f\"],[0.2222222222222222,\"#7201a8\"],[0.3333333333333333,\"#9c179e\"],[0.4444444444444444,\"#bd3786\"],[0.5555555555555556,\"#d8576b\"],[0.6666666666666666,\"#ed7953\"],[0.7777777777777778,\"#fb9f3a\"],[0.8888888888888888,\"#fdca26\"],[1.0,\"#f0f921\"]],\"type\":\"surface\"}],\"table\":[{\"cells\":{\"fill\":{\"color\":\"#EBF0F8\"},\"line\":{\"color\":\"white\"}},\"header\":{\"fill\":{\"color\":\"#C8D4E3\"},\"line\":{\"color\":\"white\"}},\"type\":\"table\"}]},\"layout\":{\"annotationdefaults\":{\"arrowcolor\":\"#2a3f5f\",\"arrowhead\":0,\"arrowwidth\":1},\"autotypenumbers\":\"strict\",\"coloraxis\":{\"colorbar\":{\"outlinewidth\":0,\"ticks\":\"\"}},\"colorscale\":{\"diverging\":[[0,\"#8e0152\"],[0.1,\"#c51b7d\"],[0.2,\"#de77ae\"],[0.3,\"#f1b6da\"],[0.4,\"#fde0ef\"],[0.5,\"#f7f7f7\"],[0.6,\"#e6f5d0\"],[0.7,\"#b8e186\"],[0.8,\"#7fbc41\"],[0.9,\"#4d9221\"],[1,\"#276419\"]],\"sequential\":[[0.0,\"#0d0887\"],[0.1111111111111111,\"#46039f\"],[0.2222222222222222,\"#7201a8\"],[0.3333333333333333,\"#9c179e\"],[0.4444444444444444,\"#bd3786\"],[0.5555555555555556,\"#d8576b\"],[0.6666666666666666,\"#ed7953\"],[0.7777777777777778,\"#fb9f3a\"],[0.8888888888888888,\"#fdca26\"],[1.0,\"#f0f921\"]],\"sequentialminus\":[[0.0,\"#0d0887\"],[0.1111111111111111,\"#46039f\"],[0.2222222222222222,\"#7201a8\"],[0.3333333333333333,\"#9c179e\"],[0.4444444444444444,\"#bd3786\"],[0.5555555555555556,\"#d8576b\"],[0.6666666666666666,\"#ed7953\"],[0.7777777777777778,\"#fb9f3a\"],[0.8888888888888888,\"#fdca26\"],[1.0,\"#f0f921\"]]},\"colorway\":[\"#636efa\",\"#EF553B\",\"#00cc96\",\"#ab63fa\",\"#FFA15A\",\"#19d3f3\",\"#FF6692\",\"#B6E880\",\"#FF97FF\",\"#FECB52\"],\"font\":{\"color\":\"#2a3f5f\"},\"geo\":{\"bgcolor\":\"white\",\"lakecolor\":\"white\",\"landcolor\":\"#E5ECF6\",\"showlakes\":true,\"showland\":true,\"subunitcolor\":\"white\"},\"hoverlabel\":{\"align\":\"left\"},\"hovermode\":\"closest\",\"mapbox\":{\"style\":\"light\"},\"paper_bgcolor\":\"white\",\"plot_bgcolor\":\"#E5ECF6\",\"polar\":{\"angularaxis\":{\"gridcolor\":\"white\",\"linecolor\":\"white\",\"ticks\":\"\"},\"bgcolor\":\"#E5ECF6\",\"radialaxis\":{\"gridcolor\":\"white\",\"linecolor\":\"white\",\"ticks\":\"\"}},\"scene\":{\"xaxis\":{\"backgroundcolor\":\"#E5ECF6\",\"gridcolor\":\"white\",\"gridwidth\":2,\"linecolor\":\"white\",\"showbackground\":true,\"ticks\":\"\",\"zerolinecolor\":\"white\"},\"yaxis\":{\"backgroundcolor\":\"#E5ECF6\",\"gridcolor\":\"white\",\"gridwidth\":2,\"linecolor\":\"white\",\"showbackground\":true,\"ticks\":\"\",\"zerolinecolor\":\"white\"},\"zaxis\":{\"backgroundcolor\":\"#E5ECF6\",\"gridcolor\":\"white\",\"gridwidth\":2,\"linecolor\":\"white\",\"showbackground\":true,\"ticks\":\"\",\"zerolinecolor\":\"white\"}},\"shapedefaults\":{\"line\":{\"color\":\"#2a3f5f\"}},\"ternary\":{\"aaxis\":{\"gridcolor\":\"white\",\"linecolor\":\"white\",\"ticks\":\"\"},\"baxis\":{\"gridcolor\":\"white\",\"linecolor\":\"white\",\"ticks\":\"\"},\"bgcolor\":\"#E5ECF6\",\"caxis\":{\"gridcolor\":\"white\",\"linecolor\":\"white\",\"ticks\":\"\"}},\"title\":{\"x\":0.05},\"xaxis\":{\"automargin\":true,\"gridcolor\":\"white\",\"linecolor\":\"white\",\"ticks\":\"\",\"title\":{\"standoff\":15},\"zerolinecolor\":\"white\",\"zerolinewidth\":2},\"yaxis\":{\"automargin\":true,\"gridcolor\":\"white\",\"linecolor\":\"white\",\"ticks\":\"\",\"title\":{\"standoff\":15},\"zerolinecolor\":\"white\",\"zerolinewidth\":2}}},\"xaxis\":{\"anchor\":\"y\",\"domain\":[0.0,1.0],\"title\":{\"text\":\"Day\"}},\"yaxis\":{\"anchor\":\"x\",\"domain\":[0.0,1.0],\"title\":{\"text\":\"Stock price\"}},\"legend\":{\"title\":{\"text\":\"Adj_Close Price\"},\"tracegroupgap\":0},\"margin\":{\"t\":60},\"title\":{\"text\":\"Last 15 days vs next 10 days\"},\"font\":{\"size\":15,\"color\":\"black\"},\"plot_bgcolor\":\"white\"},                        {\"responsive\": true}                    ).then(function(){\n",
       "                            \n",
       "var gd = document.getElementById('77275eee-ef8d-46f2-823f-c5bd38a151e8');\n",
       "var x = new MutationObserver(function (mutations, observer) {{\n",
       "        var display = window.getComputedStyle(gd).display;\n",
       "        if (!display || display === 'none') {{\n",
       "            console.log([gd, 'removed!']);\n",
       "            Plotly.purge(gd);\n",
       "            observer.disconnect();\n",
       "        }}\n",
       "}});\n",
       "\n",
       "// Listen for the removal of the full notebook cells\n",
       "var notebookContainer = gd.closest('#notebook-container');\n",
       "if (notebookContainer) {{\n",
       "    x.observe(notebookContainer, {childList: true});\n",
       "}}\n",
       "\n",
       "// Listen for the clearing of the current output cell\n",
       "var outputEl = gd.closest('.output');\n",
       "if (outputEl) {{\n",
       "    x.observe(outputEl, {childList: true});\n",
       "}}\n",
       "\n",
       "                        })                };                });            </script>        </div>"
      ]
     },
     "metadata": {},
     "output_type": "display_data"
    }
   ],
   "source": [
    "fig= px.line(new_pred_plot,x=new_pred_plot.index,\n",
    "            y=[new_pred_plot['last_original_days_value'],\n",
    "            new_pred_plot['next_predicted_days_value']],\n",
    "            labels={'value': 'Stock price','index': 'Day'})\n",
    "fig.update_layout(title_text='Last 15 days vs next 10 days',\n",
    "plot_bgcolor='white', font_size=15, font_color='black',legend_title_text='Adj_Close Price')\n",
    "fig.for_each_trace(lambda t:  t.update(name= next(names)))\n",
    "fig.show()"
   ]
  },
  {
   "cell_type": "code",
   "execution_count": 54,
   "id": "cbe17b1c",
   "metadata": {},
   "outputs": [],
   "source": [
    "output=scaler.inverse_transform(lst_output)"
   ]
  },
  {
   "cell_type": "code",
   "execution_count": 70,
   "id": "c9dd8587",
   "metadata": {},
   "outputs": [],
   "source": [
    "#FOR THE OUTPUT NEEDED\n",
    "data= {'Adj_Close': output}\n",
    "df= pd.DataFrame(data=output)\n",
    "df.columns = [\"Adj_Close\"]"
   ]
  },
  {
   "cell_type": "code",
   "execution_count": 69,
   "id": "caab585c",
   "metadata": {},
   "outputs": [],
   "source": [
    "Date=[\"10-11-2022\",\"10-12-2022\",\"10-13-2022\",\"10-14-2022\",\"10-15-2022\",\"10-16-2022\",\n",
    "      \"10-17-2022\",\"10-18-2022\",\"10-19-2022\",\"10-20-2022\"]\n",
    "df.insert(loc=1,column=\"Date\", value=Date)"
   ]
  },
  {
   "cell_type": "code",
   "execution_count": 66,
   "id": "f36f4f21",
   "metadata": {},
   "outputs": [
    {
     "name": "stdout",
     "output_type": "stream",
     "text": [
      "The predicted output starting from October 11, 2022 to October  20, 2022 are:\n",
      "\n",
      "    Adj_Close        Date\n",
      "1   1.489510  10-12-2022\n",
      "2   1.483797  10-13-2022\n",
      "3   1.478130  10-14-2022\n",
      "4   1.473185  10-15-2022\n",
      "5   1.469194  10-16-2022\n",
      "6   1.466144  10-17-2022\n",
      "7   1.463903  10-18-2022\n",
      "8   1.462297  10-19-2022 \n",
      "\n"
     ]
    }
   ],
   "source": [
    "print(\"The predicted output starting from October 11, 2022 to October  20, 2022 are:\\n\\n\",df[1:9],\"\\n\")"
   ]
  }
 ],
 "metadata": {
  "kernelspec": {
   "display_name": "Python 3 (ipykernel)",
   "language": "python",
   "name": "python3"
  },
  "language_info": {
   "codemirror_mode": {
    "name": "ipython",
    "version": 3
   },
   "file_extension": ".py",
   "mimetype": "text/x-python",
   "name": "python",
   "nbconvert_exporter": "python",
   "pygments_lexer": "ipython3",
   "version": "3.9.12"
  }
 },
 "nbformat": 4,
 "nbformat_minor": 5
}
